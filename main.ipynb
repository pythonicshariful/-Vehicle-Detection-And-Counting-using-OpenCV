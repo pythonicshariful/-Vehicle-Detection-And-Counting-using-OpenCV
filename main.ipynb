{
 "cells": [
  {
   "cell_type": "code",
   "execution_count": null,
   "id": "46234d28",
   "metadata": {},
   "outputs": [],
   "source": [
    "                \"# simple tracker storage: store last centroid y and counted state keyed by an id\",\n",
    "                \"next_object_id = 0\",\n",
    "                \"objects = {}  # object_id -> {'y': int, 'counted': bool, 'missed': int}\",\n",
    "                \"up_count = 0\",\n",
    "                \"down_count = 0\",\n",
    "\n",
    "        for c in current_centroids:\n",
    "            # draw counting line and count\n",
    "            total = up_count + down_count\n",
    "            cv2.line(frame, (0, line_position), (w, line_position), (255, 0, 255), 2)\n",
    "            cv2.putText(frame, f'Up: {up_count}', (10, 30), cv2.FONT_HERSHEY_SIMPLEX, 0.8, (255, 0, 0), 2)\n",
    "            cv2.putText(frame, f'Down: {down_count}', (10, 60), cv2.FONT_HERSHEY_SIMPLEX, 0.8, (0, 255, 0), 2)\n",
    "            cv2.putText(frame, f'Total: {total}', (10, 90), cv2.FONT_HERSHEY_SIMPLEX, 0.8, (0, 0, 255), 2)\n",
    "{\n",
    "    \"cells\": [\n",
    "        {\n",
    "            \"cell_type\": \"code\",\n",
    "            \"id\": \"#VSC-876adfe7\",\n",
    "            \"metadata\": {\n",
    "                \"language\": \"python\"\n",
    "            },\n",
    "            \"source\": [\n",
    "                \"\"\n",
    "            ]\n",
    "        },\n",
    "        {\n",
    "            \"cell_type\": \"code\",\n",
    "            \"id\": \"#VSC-a17a7256\",\n",
    "            \"metadata\": {\n",
    "                \"language\": \"python\"\n",
    "            },\n",
    "            \"source\": [\n",
    "                \"while True:\",\n",
    "                \"    ret, frame = cap.read()\",\n",
    "                \"    if not ret:\",\n",
    "                \"        break\",\n",
    "                \"\",\n",
    "                \"    fgmask = fgbg.apply(frame)\",\n",
    "                \"    _, fgmask = cv2.threshold(fgmask, 250, 255, cv2.THRESH_BINARY)\",\n",
    "                \"    fgmask = cv2.morphologyEx(fgmask, cv2.MORPH_OPEN, np.ones((3,3), np.uint8))\",\n",
    "                \"    fgmask = cv2.morphologyEx(fgmask, cv2.MORPH_DILATE, np.ones((5,5), np.uint8))\",\n",
    "                \"\",\n",
    "                \"    contours, _ = cv2.findContours(fgmask, cv2.RETR_EXTERNAL, cv2.CHAIN_APPROX_SIMPLE)\",\n",
    "                \"\",\n",
    "                \"    for contour in contours:\",\n",
    "                \"        if cv2.contourArea(contour) > 500:\",\n",
    "                \"            x, y, w, h = cv2.boundingRect(contour)\",\n",
    "                \"            cv2.rectangle(frame, (x,y), (x+w, y+h), (0,255,0), 2)\",\n",
    "                \"\",\n",
    "                \"    cv2.imshow('Frame', frame)\",\n",
    "                \"    cv2.imshow('FG Mask', fgmask)\",\n",
    "                \"\",\n",
    "                \"    if cv2.waitKey(30) & 0xFF == 27:\",\n",
    "                \"        break\",\n",
    "                \"ret, frame1 = cap.read()\",\n",
    "                \"cv2.imshow(\\\"Frame\\\", frame1)\",\n",
    "                \"cv2.waitKey(0)\"\n",
    "            ]\n",
    "        }\n",
    "    ]\n",
    "}"
   ]
  },
  {
   "cell_type": "code",
   "execution_count": null,
   "id": "ea1372a5",
   "metadata": {},
   "outputs": [],
   "source": []
  },
  {
   "cell_type": "code",
   "execution_count": null,
   "id": "c7321d15",
   "metadata": {},
   "outputs": [
    {
     "ename": "KeyboardInterrupt",
     "evalue": "",
     "output_type": "error",
     "traceback": [
      "\u001b[1;31m---------------------------------------------------------------------------\u001b[0m",
      "\u001b[1;31mKeyboardInterrupt\u001b[0m                         Traceback (most recent call last)",
      "Cell \u001b[1;32mIn[5], line 21\u001b[0m\n\u001b[0;32m     18\u001b[0m     cv2\u001b[38;5;241m.\u001b[39mimshow(\u001b[38;5;124m'\u001b[39m\u001b[38;5;124mFrame\u001b[39m\u001b[38;5;124m'\u001b[39m, frame)\n\u001b[0;32m     19\u001b[0m     cv2\u001b[38;5;241m.\u001b[39mimshow(\u001b[38;5;124m'\u001b[39m\u001b[38;5;124mFG Mask\u001b[39m\u001b[38;5;124m'\u001b[39m, fgmask)\n\u001b[1;32m---> 21\u001b[0m     \u001b[38;5;28;01mif\u001b[39;00m \u001b[43mcv2\u001b[49m\u001b[38;5;241;43m.\u001b[39;49m\u001b[43mwaitKey\u001b[49m\u001b[43m(\u001b[49m\u001b[38;5;241;43m30\u001b[39;49m\u001b[43m)\u001b[49m \u001b[38;5;241m&\u001b[39m \u001b[38;5;241m0xFF\u001b[39m \u001b[38;5;241m==\u001b[39m \u001b[38;5;241m27\u001b[39m:\n\u001b[0;32m     22\u001b[0m         \u001b[38;5;28;01mbreak\u001b[39;00m\n\u001b[0;32m     23\u001b[0m ret, frame1 \u001b[38;5;241m=\u001b[39m cap\u001b[38;5;241m.\u001b[39mread()\n",
      "\u001b[1;31mKeyboardInterrupt\u001b[0m: "
     ]
    },
    {
     "ename": "",
     "evalue": "",
     "output_type": "error",
     "traceback": [
      "\u001b[1;31mThe Kernel crashed while executing code in the current cell or a previous cell. \n",
      "\u001b[1;31mPlease review the code in the cell(s) to identify a possible cause of the failure. \n",
      "\u001b[1;31mClick <a href='https://aka.ms/vscodeJupyterKernelCrash'>here</a> for more info. \n",
      "\u001b[1;31mView Jupyter <a href='command:jupyter.viewOutput'>log</a> for further details."
     ]
    }
   ],
   "source": [
    "while True:\n",
    "    ret, frame = cap.read()\n",
    "    if not ret:\n",
    "        break\n",
    "\n",
    "    fgmask = fgbg.apply(frame)\n",
    "    _, fgmask = cv2.threshold(fgmask, 250, 255, cv2.THRESH_BINARY)\n",
    "    fgmask = cv2.morphologyEx(fgmask, cv2.MORPH_OPEN, np.ones((3,3), np.uint8))\n",
    "    fgmask = cv2.morphologyEx(fgmask, cv2.MORPH_DILATE, np.ones((5,5), np.uint8))\n",
    "\n",
    "    contours, _ = cv2.findContours(fgmask, cv2.RETR_EXTERNAL, cv2.CHAIN_APPROX_SIMPLE)\n",
    "\n",
    "    for contour in contours:\n",
    "        if cv2.contourArea(contour) > 500:\n",
    "            x, y, w, h = cv2.boundingRect(contour)\n",
    "            cv2.rectangle(frame, (x,y), (x+w, y+h), (0,255,0), 2)\n",
    "\n",
    "    cv2.imshow('Frame', frame)\n",
    "    cv2.imshow('FG Mask', fgmask)\n",
    "\n",
    "    if cv2.waitKey(30) & 0xFF == 27:\n",
    "        break\n",
    "ret, frame1 = cap.read()\n",
    "cv2.imshow(\"Frame\", frame1)\n",
    "cv2.waitKey(0)"
   ]
  }
 ],
 "metadata": {
  "kernelspec": {
   "display_name": "venv",
   "language": "python",
   "name": "python3"
  },
  "language_info": {
   "codemirror_mode": {
    "name": "ipython",
    "version": 3
   },
   "file_extension": ".py",
   "mimetype": "text/x-python",
   "name": "python",
   "nbconvert_exporter": "python",
   "pygments_lexer": "ipython3",
   "version": "3.8.5"
  }
 },
 "nbformat": 4,
 "nbformat_minor": 5
}
